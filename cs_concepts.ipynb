{
 "cells": [
  {
   "cell_type": "markdown",
   "metadata": {
    "ExecuteTime": {
     "end_time": "2018-01-31T21:23:16.625553Z",
     "start_time": "2018-01-31T21:23:16.622085Z"
    }
   },
   "source": [
    "# Computer Science Concepts Practice"
   ]
  },
  {
   "cell_type": "markdown",
   "metadata": {},
   "source": [
    "## Binary Search"
   ]
  },
  {
   "cell_type": "code",
   "execution_count": 1,
   "metadata": {
    "ExecuteTime": {
     "end_time": "2018-02-01T15:35:31.715007Z",
     "start_time": "2018-02-01T15:35:31.703053Z"
    }
   },
   "outputs": [],
   "source": [
    "def search(l,v):\n",
    "    if v in l:\n",
    "        return True\n",
    "    else:\n",
    "        return False"
   ]
  },
  {
   "cell_type": "code",
   "execution_count": 47,
   "metadata": {
    "ExecuteTime": {
     "end_time": "2018-02-01T16:21:21.012487Z",
     "start_time": "2018-02-01T16:21:21.005649Z"
    }
   },
   "outputs": [],
   "source": [
    "def linear_search(l,v):\n",
    "    c = 1\n",
    "    for i in l:\n",
    "        if i == v:\n",
    "            ans = i\n",
    "        else:\n",
    "            next\n",
    "        c += 1\n",
    "    print(f\"Value of {v} at index {ans} found in {c} tries\")\n",
    "    \n",
    "    return"
   ]
  },
  {
   "cell_type": "code",
   "execution_count": 40,
   "metadata": {
    "ExecuteTime": {
     "end_time": "2018-02-01T16:15:56.594349Z",
     "start_time": "2018-02-01T16:15:56.575636Z"
    }
   },
   "outputs": [],
   "source": [
    "def bi_search(l,v):\n",
    "    '''Sort a list and perform a binary search to return the desired value'''\n",
    "    c = 1\n",
    "    low = 0\n",
    "    high = len(l)-1\n",
    "    l = sorted(l)\n",
    "    mid = (low + high) // 2\n",
    "    \n",
    "    while l[mid] != v:\n",
    "        if l[mid] < v:\n",
    "            low = mid+1\n",
    "        else:\n",
    "            high = mid-1\n",
    "        \n",
    "        c += 1\n",
    "        mid = (low + high) // 2\n",
    "    \n",
    "    print(f\"Value of {v} at index {mid} found in {c} tries\")\n",
    "    \n",
    "    return \n",
    "    "
   ]
  },
  {
   "cell_type": "code",
   "execution_count": 42,
   "metadata": {
    "ExecuteTime": {
     "end_time": "2018-02-01T16:17:58.965495Z",
     "start_time": "2018-02-01T16:17:58.886305Z"
    }
   },
   "outputs": [],
   "source": [
    "L = [x for x in range(0,1000000)]"
   ]
  },
  {
   "cell_type": "code",
   "execution_count": 43,
   "metadata": {
    "ExecuteTime": {
     "end_time": "2018-02-01T16:17:59.303424Z",
     "start_time": "2018-02-01T16:17:59.299664Z"
    }
   },
   "outputs": [
    {
     "data": {
      "text/plain": [
       "True"
      ]
     },
     "execution_count": 43,
     "metadata": {},
     "output_type": "execute_result"
    }
   ],
   "source": [
    "search(L,57)"
   ]
  },
  {
   "cell_type": "code",
   "execution_count": 44,
   "metadata": {
    "ExecuteTime": {
     "end_time": "2018-02-01T16:18:12.740723Z",
     "start_time": "2018-02-01T16:18:12.711355Z"
    }
   },
   "outputs": [
    {
     "name": "stdout",
     "output_type": "stream",
     "text": [
      "Value of 57 at index 57 found in 20 tries\n"
     ]
    }
   ],
   "source": [
    "bi_search(L,57)"
   ]
  },
  {
   "cell_type": "code",
   "execution_count": 48,
   "metadata": {
    "ExecuteTime": {
     "end_time": "2018-02-01T16:21:29.745910Z",
     "start_time": "2018-02-01T16:21:29.655800Z"
    }
   },
   "outputs": [
    {
     "name": "stdout",
     "output_type": "stream",
     "text": [
      "Value of 57 at index 57 found in 1000001 tries\n"
     ]
    }
   ],
   "source": [
    "linear_search(L,57)"
   ]
  },
  {
   "cell_type": "code",
   "execution_count": 49,
   "metadata": {
    "ExecuteTime": {
     "end_time": "2018-02-01T16:21:57.423530Z",
     "start_time": "2018-02-01T16:21:57.420768Z"
    }
   },
   "outputs": [
    {
     "name": "stdout",
     "output_type": "stream",
     "text": [
      "Value of 32 at index 5 found in 2 tries\n"
     ]
    }
   ],
   "source": [
    "bi_search([4,8,9,10,24,32,45,56],32)"
   ]
  },
  {
   "cell_type": "code",
   "execution_count": 50,
   "metadata": {
    "ExecuteTime": {
     "end_time": "2018-02-01T16:22:03.151677Z",
     "start_time": "2018-02-01T16:22:03.148640Z"
    }
   },
   "outputs": [
    {
     "name": "stdout",
     "output_type": "stream",
     "text": [
      "Value of 32 at index 32 found in 9 tries\n"
     ]
    }
   ],
   "source": [
    "linear_search([4,8,9,10,24,32,45,56],32)"
   ]
  },
  {
   "cell_type": "markdown",
   "metadata": {},
   "source": [
    "## Recursion"
   ]
  },
  {
   "cell_type": "code",
   "execution_count": null,
   "metadata": {},
   "outputs": [],
   "source": []
  }
 ],
 "metadata": {
  "kernelspec": {
   "display_name": "Python 3",
   "language": "python",
   "name": "python3"
  },
  "language_info": {
   "codemirror_mode": {
    "name": "ipython",
    "version": 3
   },
   "file_extension": ".py",
   "mimetype": "text/x-python",
   "name": "python",
   "nbconvert_exporter": "python",
   "pygments_lexer": "ipython3",
   "version": "3.6.4"
  },
  "toc": {
   "nav_menu": {},
   "number_sections": true,
   "sideBar": true,
   "skip_h1_title": true,
   "toc_cell": false,
   "toc_position": {},
   "toc_section_display": "block",
   "toc_window_display": true
  }
 },
 "nbformat": 4,
 "nbformat_minor": 2
}
